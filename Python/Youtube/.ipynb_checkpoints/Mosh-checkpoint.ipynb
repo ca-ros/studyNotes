{
 "cells": [
  {
   "cell_type": "code",
   "execution_count": 4,
   "id": "2c37fcc6-b62d-4f93-9529-561ced875178",
   "metadata": {},
   "outputs": [
    {
     "name": "stdout",
     "output_type": "stream",
     "text": [
      "Dog\n",
      "o----\n",
      " ||||\n"
     ]
    }
   ],
   "source": [
    "print('Dog')\n",
    "print('o----')\n",
    "print(' ||||')"
   ]
  },
  {
   "cell_type": "code",
   "execution_count": 5,
   "id": "00e6f549-c58f-4eab-9901-69ad439a92fb",
   "metadata": {},
   "outputs": [
    {
     "name": "stdout",
     "output_type": "stream",
     "text": [
      "**********\n"
     ]
    }
   ],
   "source": [
    "print('*' * 10)"
   ]
  },
  {
   "cell_type": "markdown",
   "id": "20d84a37-3c75-4869-a54b-5c39ac942c0a",
   "metadata": {},
   "source": [
    "## Variables"
   ]
  },
  {
   "cell_type": "code",
   "execution_count": 8,
   "id": "c3a2314b-890b-4973-aa07-64b0789c5195",
   "metadata": {},
   "outputs": [
    {
     "name": "stdout",
     "output_type": "stream",
     "text": [
      "price\n",
      "10\n"
     ]
    }
   ],
   "source": [
    "price = 10\n",
    "print('price')\n",
    "print(price)"
   ]
  },
  {
   "cell_type": "code",
   "execution_count": 9,
   "id": "397c266c-613f-4912-b443-6e4f53f63bbd",
   "metadata": {},
   "outputs": [
    {
     "name": "stdout",
     "output_type": "stream",
     "text": [
      "20\n"
     ]
    }
   ],
   "source": [
    "price = 10\n",
    "price = 20\n",
    "print(price)"
   ]
  },
  {
   "cell_type": "code",
   "execution_count": 10,
   "id": "a135a4b4-8ce2-4e66-92a9-a06160c02f6d",
   "metadata": {},
   "outputs": [],
   "source": [
    "rating = 4.9 #Float\n",
    "is_published = False #Boolean"
   ]
  },
  {
   "cell_type": "markdown",
   "id": "ccb0626d-c5e2-406d-ab8b-7f852c68de85",
   "metadata": {},
   "source": [
    "## Receiving input"
   ]
  },
  {
   "cell_type": "code",
   "execution_count": 18,
   "id": "b1e06b6c-fa08-493a-90b5-bab943d4a3bf",
   "metadata": {},
   "outputs": [
    {
     "name": "stdout",
     "output_type": "stream",
     "text": [
      "What is your name?  Chris\n"
     ]
    },
    {
     "data": {
      "text/plain": [
       "'Chris'"
      ]
     },
     "execution_count": 18,
     "metadata": {},
     "output_type": "execute_result"
    }
   ],
   "source": [
    "input('What is your name? ')"
   ]
  },
  {
   "cell_type": "code",
   "execution_count": 17,
   "id": "58a4c39f-182a-47d2-9480-ad48d8ee81b2",
   "metadata": {},
   "outputs": [
    {
     "name": "stdout",
     "output_type": "stream",
     "text": [
      "What is your name?  Chris\n",
      "Hi Chris\n"
     ]
    }
   ],
   "source": [
    "name = input('What is your name? ')\n",
    "print('Hi ' + name)"
   ]
  },
  {
   "cell_type": "code",
   "execution_count": 19,
   "id": "dcb0c5c7-ad87-407a-b5eb-e49b90483bc2",
   "metadata": {},
   "outputs": [
    {
     "name": "stdout",
     "output_type": "stream",
     "text": [
      "What is your name?  Chris\n",
      "What is your favourite color?  red\n",
      "Chris likes red\n"
     ]
    }
   ],
   "source": [
    "name = input('What is your name? ')\n",
    "color = input('What is your favourite color? ')\n",
    "print(name + ' likes ' + color)"
   ]
  },
  {
   "cell_type": "markdown",
   "id": "ae431a12-549d-4cc1-9d63-bd783c36005d",
   "metadata": {},
   "source": [
    "## Conversion"
   ]
  },
  {
   "cell_type": "code",
   "execution_count": 22,
   "id": "966f095d-59c4-4842-8878-ba9ff62011bc",
   "metadata": {},
   "outputs": [
    {
     "name": "stdout",
     "output_type": "stream",
     "text": [
      "Birth year:  1997\n",
      "<class 'str'>\n",
      "<class 'int'>\n",
      "25\n"
     ]
    }
   ],
   "source": [
    "birth_year = input('Birth year: ')\n",
    "age = 2022 - int(birth_year)\n",
    "print(age)"
   ]
  },
  {
   "cell_type": "code",
   "execution_count": 23,
   "id": "0e79c5a6-ad1b-4e3e-8c9e-62db7c2dfd69",
   "metadata": {},
   "outputs": [
    {
     "name": "stdout",
     "output_type": "stream",
     "text": [
      "Weight (lbs):  140\n",
      "63.0\n"
     ]
    }
   ],
   "source": [
    "weight_lbs = input('Weight (lbs): ')\n",
    "weight_kg = int(weight_lbs) * 0.45\n",
    "print(weight_kg)"
   ]
  },
  {
   "cell_type": "markdown",
   "id": "78797a1c-60e9-4643-8308-894e4300f5ff",
   "metadata": {},
   "source": [
    "## Strings"
   ]
  },
  {
   "cell_type": "code",
   "execution_count": 24,
   "id": "c5ef0b39-97dc-4208-8099-882b87e11789",
   "metadata": {},
   "outputs": [
    {
     "name": "stdout",
     "output_type": "stream",
     "text": [
      "Python's for Beginners\n",
      "Python for \"Beginners\"\n"
     ]
    }
   ],
   "source": [
    "course = \"Python's for Beginners\"\n",
    "print(course)\n",
    "course_2 = 'Python for \"Beginners\"'\n",
    "print(course_2)"
   ]
  },
  {
   "cell_type": "code",
   "execution_count": 27,
   "id": "1af49149-2a42-4ae8-b4bf-329cff0b59f3",
   "metadata": {},
   "outputs": [
    {
     "name": "stdout",
     "output_type": "stream",
     "text": [
      "\n",
      "Hi John,\n",
      "\n",
      "Here is our first email to you.\n",
      "\n",
      "Thank you,\n",
      "The support team\n",
      "\n"
     ]
    }
   ],
   "source": [
    "course_message = '''\n",
    "Hi John,\n",
    "\n",
    "Here is our first email to you.\n",
    "\n",
    "Thank you,\n",
    "The support team\n",
    "'''\n",
    "\n",
    "print(course_message)"
   ]
  },
  {
   "cell_type": "code",
   "execution_count": 28,
   "id": "6c61c731-c21d-479e-a66d-310717a8bc48",
   "metadata": {},
   "outputs": [
    {
     "name": "stdout",
     "output_type": "stream",
     "text": [
      "P\n"
     ]
    }
   ],
   "source": [
    "course = 'Python for Beginners'\n",
    "print(course[0])"
   ]
  },
  {
   "cell_type": "code",
   "execution_count": 29,
   "id": "cad20774-6dc1-47e0-bc00-1e6f7d8b77ba",
   "metadata": {},
   "outputs": [
    {
     "name": "stdout",
     "output_type": "stream",
     "text": [
      "s\n"
     ]
    }
   ],
   "source": [
    "course = 'Python for Beginners'\n",
    "print(course[-1])"
   ]
  },
  {
   "cell_type": "code",
   "execution_count": 30,
   "id": "d306e4d7-2efe-4c87-92e5-86bcc226602e",
   "metadata": {},
   "outputs": [
    {
     "name": "stdout",
     "output_type": "stream",
     "text": [
      "Pyt\n"
     ]
    }
   ],
   "source": [
    "course = 'Python for Beginners'\n",
    "print(course[0:3])"
   ]
  },
  {
   "cell_type": "code",
   "execution_count": 31,
   "id": "f8445934-4384-41f8-92d7-a6625a8ee28b",
   "metadata": {},
   "outputs": [
    {
     "name": "stdout",
     "output_type": "stream",
     "text": [
      "Python for Beginners\n"
     ]
    }
   ],
   "source": [
    "# Returns all the characters\n",
    "course = 'Python for Beginners'\n",
    "print(course[0:])"
   ]
  },
  {
   "cell_type": "code",
   "execution_count": 33,
   "id": "68af2eab-b1a8-45a6-9e86-1a207ae1dd3e",
   "metadata": {},
   "outputs": [
    {
     "name": "stdout",
     "output_type": "stream",
     "text": [
      "Pytho\n"
     ]
    }
   ],
   "source": [
    "# Assumes the 0 index\n",
    "course = 'Python for Beginners'\n",
    "print(course[:5])"
   ]
  },
  {
   "cell_type": "code",
   "execution_count": 34,
   "id": "283225c5-7200-478c-b8d1-62f523f98850",
   "metadata": {},
   "outputs": [
    {
     "name": "stdout",
     "output_type": "stream",
     "text": [
      "Python for Beginners\n"
     ]
    }
   ],
   "source": [
    "# Returns all the characters\n",
    "course = 'Python for Beginners'\n",
    "print(course[:])"
   ]
  },
  {
   "cell_type": "code",
   "execution_count": 35,
   "id": "ee73617a-0970-4d87-82e1-0d852091e895",
   "metadata": {},
   "outputs": [
    {
     "name": "stdout",
     "output_type": "stream",
     "text": [
      "Python for Beginners\n"
     ]
    }
   ],
   "source": [
    "another = course[:]\n",
    "print(another)"
   ]
  },
  {
   "cell_type": "code",
   "execution_count": 1,
   "id": "355ca267-5c88-409d-83bb-b68fa28d4193",
   "metadata": {},
   "outputs": [
    {
     "name": "stdout",
     "output_type": "stream",
     "text": [
      "ennife\n"
     ]
    }
   ],
   "source": [
    "name = 'Jennifer'\n",
    "print(name[1:-1])"
   ]
  },
  {
   "cell_type": "markdown",
   "id": "40526128-5796-48aa-921e-eadc2ea4613b",
   "metadata": {},
   "source": [
    "## Formatted strings"
   ]
  },
  {
   "cell_type": "code",
   "execution_count": 8,
   "id": "77c00765-297c-4ad8-8152-483a3befa686",
   "metadata": {},
   "outputs": [
    {
     "name": "stdout",
     "output_type": "stream",
     "text": [
      "John [Smith] is a coder\n"
     ]
    }
   ],
   "source": [
    "first = 'John'\n",
    "last = 'Smith'\n",
    "# message = first + '[ + last + ]' is a coder\n",
    "msg = f'{first} [{last}] is a coder'\n",
    "print(msg)"
   ]
  },
  {
   "cell_type": "markdown",
   "id": "7337903c-91f7-4ea9-ad16-5d35687923c1",
   "metadata": {
    "tags": []
   },
   "source": [
    "## String Methods"
   ]
  },
  {
   "cell_type": "code",
   "execution_count": 13,
   "id": "ac912fdc-320d-4cb4-8a24-d043cbc54630",
   "metadata": {},
   "outputs": [
    {
     "name": "stdout",
     "output_type": "stream",
     "text": [
      "20\n",
      "PYTHON FOR BEGINNERS\n",
      "python for beginners\n"
     ]
    },
    {
     "data": {
      "text/plain": [
       "0"
      ]
     },
     "execution_count": 13,
     "metadata": {},
     "output_type": "execute_result"
    }
   ],
   "source": [
    "course = 'Python for Beginners'\n",
    "print(len(course))\n",
    "print(course.upper())\n",
    "print(course.lower())\n",
    "course.find('P')"
   ]
  },
  {
   "cell_type": "code",
   "execution_count": 16,
   "id": "f51e8f85-afb7-41b5-a1f7-cfbe7b19f4c8",
   "metadata": {},
   "outputs": [
    {
     "data": {
      "text/plain": [
       "4"
      ]
     },
     "execution_count": 16,
     "metadata": {},
     "output_type": "execute_result"
    }
   ],
   "source": [
    "course = 'Python for Beginners'\n",
    "course.find('o')"
   ]
  },
  {
   "cell_type": "code",
   "execution_count": 17,
   "id": "c92f33ac-d3ce-4f03-a758-78d02f2836d1",
   "metadata": {},
   "outputs": [
    {
     "name": "stdout",
     "output_type": "stream",
     "text": [
      "Python for Absolute Beginners\n"
     ]
    }
   ],
   "source": [
    "course = 'Python for Beginners'\n",
    "print(course.replace('Beginners','Absolute Beginners'))"
   ]
  },
  {
   "cell_type": "code",
   "execution_count": 19,
   "id": "1b1c8bf6-d2d6-446b-ba33-295da588a08c",
   "metadata": {},
   "outputs": [
    {
     "name": "stdout",
     "output_type": "stream",
     "text": [
      "Jython for Beginners\n"
     ]
    }
   ],
   "source": [
    "course = 'Python for Beginners'\n",
    "print(course.replace('P','J'))"
   ]
  },
  {
   "cell_type": "code",
   "execution_count": 22,
   "id": "d790f653-857b-4844-a5e6-3448e96b94cf",
   "metadata": {},
   "outputs": [
    {
     "data": {
      "text/plain": [
       "True"
      ]
     },
     "execution_count": 22,
     "metadata": {},
     "output_type": "execute_result"
    }
   ],
   "source": [
    "course = 'Python for Beginners'\n",
    "'Python' in course "
   ]
  },
  {
   "cell_type": "code",
   "execution_count": 24,
   "id": "653c86d3-4301-4202-9553-0e4a23ecfee4",
   "metadata": {},
   "outputs": [
    {
     "data": {
      "text/plain": [
       "False"
      ]
     },
     "execution_count": 24,
     "metadata": {},
     "output_type": "execute_result"
    }
   ],
   "source": [
    "course = 'Python for Beginners'\n",
    "'python' in course "
   ]
  },
  {
   "cell_type": "code",
   "execution_count": null,
   "id": "54684cd0-ea76-46df-9185-33a07674dfec",
   "metadata": {},
   "outputs": [],
   "source": [
    "course = 'Python for Beginners'\n",
    "len()\n",
    "course.upper()"
   ]
  },
  {
   "cell_type": "markdown",
   "id": "f06abe20-be1a-4ef7-9ba3-f70e66e6c0af",
   "metadata": {},
   "source": [
    "## Arithmetic Operations"
   ]
  },
  {
   "cell_type": "code",
   "execution_count": 26,
   "id": "2719f162-e9b8-4d2f-83f2-c7aa652ebd0f",
   "metadata": {},
   "outputs": [
    {
     "name": "stdout",
     "output_type": "stream",
     "text": [
      "13\n",
      "7\n",
      "30\n",
      "3.3333333333333335\n",
      "3\n",
      "1\n",
      "1000\n"
     ]
    }
   ],
   "source": [
    "print(10 + 3) # Addition\n",
    "print(10 - 3) # Subtraction\n",
    "print(10 * 3) # Multiplication\n",
    "print(10 / 3) # Division\n",
    "print(10 // 3) # Division (Integer)\n",
    "print(10 % 3) # Return remainder\n",
    "print(10 ** 3) # Power"
   ]
  },
  {
   "cell_type": "code",
   "execution_count": 30,
   "id": "6d287608-3af6-438f-a1d7-697930628477",
   "metadata": {},
   "outputs": [
    {
     "name": "stdout",
     "output_type": "stream",
     "text": [
      "16\n"
     ]
    }
   ],
   "source": [
    "# Augmented assignment operator (+=)\n",
    "\n",
    "x = 10\n",
    "x = x + 3\n",
    "x += 3\n",
    "print(x)"
   ]
  },
  {
   "cell_type": "code",
   "execution_count": 33,
   "id": "98f83dce-9bf3-4809-99b6-35cbcc61233f",
   "metadata": {},
   "outputs": [
    {
     "name": "stdout",
     "output_type": "stream",
     "text": [
      "16\n",
      "22\n"
     ]
    }
   ],
   "source": [
    "x = 10 + 3 * 2\n",
    "y = 10 + 3 * 2 ** 2\n",
    "print(x)\n",
    "print(y)"
   ]
  },
  {
   "cell_type": "markdown",
   "id": "3ab8e426-146b-4822-bcd7-106c2075dac7",
   "metadata": {},
   "source": [
    "## Math functions"
   ]
  },
  {
   "cell_type": "code",
   "execution_count": 34,
   "id": "5c65a249-92aa-4b5f-9deb-087a2430e7f6",
   "metadata": {},
   "outputs": [
    {
     "name": "stdout",
     "output_type": "stream",
     "text": [
      "3\n"
     ]
    }
   ],
   "source": [
    "x = 2.9\n",
    "print(round(x))"
   ]
  },
  {
   "cell_type": "code",
   "execution_count": 37,
   "id": "ac988e93-bdc0-4916-9bb3-bdad96d49aad",
   "metadata": {},
   "outputs": [
    {
     "name": "stdout",
     "output_type": "stream",
     "text": [
      "2.9\n"
     ]
    }
   ],
   "source": [
    "x = 2.9\n",
    "print(abs(-2.9))"
   ]
  },
  {
   "cell_type": "code",
   "execution_count": 9,
   "id": "e264bafe-f46d-4671-be04-aacb670ec99b",
   "metadata": {},
   "outputs": [
    {
     "name": "stdout",
     "output_type": "stream",
     "text": [
      "3\n"
     ]
    }
   ],
   "source": [
    "import math\n",
    "\n",
    "print(math.ceil(2.9))"
   ]
  },
  {
   "cell_type": "code",
   "execution_count": 40,
   "id": "d4760968-d33d-412c-b774-fae00a5c1206",
   "metadata": {},
   "outputs": [
    {
     "name": "stdout",
     "output_type": "stream",
     "text": [
      "2.9\n"
     ]
    }
   ],
   "source": [
    "x = -2.9\n",
    "print(math.fabs(x))"
   ]
  },
  {
   "cell_type": "markdown",
   "id": "536b30ad-85df-4732-b4b2-eb82d314e5a0",
   "metadata": {},
   "source": [
    "## IF Statements"
   ]
  },
  {
   "cell_type": "code",
   "execution_count": 52,
   "id": "015ade61-6fea-4dd8-bd34-a2ad7b298eae",
   "metadata": {},
   "outputs": [
    {
     "name": "stdout",
     "output_type": "stream",
     "text": [
      "It's a cold day\n",
      "Wear warm clothes\n",
      "Enjoy your day\n"
     ]
    }
   ],
   "source": [
    "is_hot = False\n",
    "is_cold = True\n",
    "\n",
    "if is_hot:\n",
    "    print(\"It's a hot day\")\n",
    "    print(\"Drink plenty of water\")\n",
    "elif is_cold:\n",
    "    print(\"It's a cold day\")\n",
    "    print(\"Wear warm clothes\")\n",
    "else:\n",
    "    print(\"It's a lovely day\")\n",
    "    \n",
    "print(\"Enjoy your day\")"
   ]
  },
  {
   "cell_type": "code",
   "execution_count": 53,
   "id": "3c4f6a60-0c03-4586-96cc-1f4916ad1305",
   "metadata": {},
   "outputs": [
    {
     "name": "stdout",
     "output_type": "stream",
     "text": [
      "Down payment: $100000.0\n"
     ]
    }
   ],
   "source": [
    "price = 1000000\n",
    "has_good_credit = True\n",
    "\n",
    "if has_good_credit:\n",
    "    down_payment = 0.1 * price\n",
    "else:\n",
    "    down_payment = 0.2 * price\n",
    "print(f\"Down payment: ${down_payment}\")"
   ]
  },
  {
   "cell_type": "markdown",
   "id": "51b10d4b-dcc9-4b15-bb9f-9ae6aaa7240b",
   "metadata": {
    "tags": []
   },
   "source": [
    "## Logical Operators\n",
    "\n",
    "- AND: both\n",
    "- OR: at least one\n",
    "- NOT"
   ]
  },
  {
   "cell_type": "code",
   "execution_count": 2,
   "id": "76d3404e-29f7-4140-88d1-a46c57142dc8",
   "metadata": {},
   "outputs": [
    {
     "name": "stdout",
     "output_type": "stream",
     "text": [
      "Eligible for loan\n"
     ]
    }
   ],
   "source": [
    "# if an applicant has high income AND good credit then they're Eligible for loan\n",
    "has_high_income = True\n",
    "has_good_credit = True\n",
    "\n",
    "if has_high_income and has_good_credit:\n",
    "    print(\"Eligible for loan\")"
   ]
  },
  {
   "cell_type": "markdown",
   "id": "ddf3f0d7-30b5-4484-a601-3eb331d25952",
   "metadata": {},
   "source": [
    "## Comparison Operator\n",
    "\n",
    "compare variable with a value\n",
    "\n",
    "- '>': Greater than\n",
    "- <: Less than\n",
    "- ==: Is equal to\n",
    "- !=: Not equal"
   ]
  },
  {
   "cell_type": "code",
   "execution_count": 3,
   "id": "215437f2-6c15-4e94-85c3-68c269c438a7",
   "metadata": {},
   "outputs": [
    {
     "name": "stdout",
     "output_type": "stream",
     "text": [
      "It's not a hot day\n"
     ]
    }
   ],
   "source": [
    "temperature = 30\n",
    "\n",
    "if temperature > 30:\n",
    "    print(\"It's a hot day\")\n",
    "else:\n",
    "    print(\"It's not a hot day\")"
   ]
  },
  {
   "cell_type": "code",
   "execution_count": 7,
   "id": "64dc0185-46ac-43a0-a5ea-5898c0324f63",
   "metadata": {},
   "outputs": [
    {
     "name": "stdout",
     "output_type": "stream",
     "text": [
      "10\n",
      "Name looks good!\n"
     ]
    }
   ],
   "source": [
    "name = 'John Smith'\n",
    "\n",
    "print(len(name))\n",
    "\n",
    "if len(name) < 3:\n",
    "    print(\"Name must be at least 3 characters.\")\n",
    "elif len(name) > 50:\n",
    "    print(\"Name must be a maximum of 50 characters.\")\n",
    "else:\n",
    "    print(\"Name looks good!\")"
   ]
  },
  {
   "cell_type": "markdown",
   "id": "4897d2b7-2621-404c-a35e-c56fa92a1dcc",
   "metadata": {
    "tags": []
   },
   "source": [
    "## Weight Converter Program"
   ]
  },
  {
   "cell_type": "code",
   "execution_count": 12,
   "id": "34675899-8925-4ff4-9902-5bc66ceae403",
   "metadata": {},
   "outputs": [
    {
     "name": "stdout",
     "output_type": "stream",
     "text": [
      "Weight:  80\n",
      "(L)bs or (K)g k\n",
      "You are 177.0 pounds\n"
     ]
    }
   ],
   "source": [
    "weight = int(input('Weight: '))\n",
    "unit = input('(L)bs or (K)g')\n",
    "if unit.upper() == 'L':\n",
    "    converted = weight * 0.45\n",
    "    print(f\"You are {converted} kilos\")\n",
    "else:\n",
    "    converted = weight / 0.45\n",
    "    print(f\"You are {converted} pounds\") "
   ]
  },
  {
   "cell_type": "markdown",
   "id": "24b44d88-e59a-4746-a036-df53675c2120",
   "metadata": {},
   "source": [
    "## While Loop"
   ]
  },
  {
   "cell_type": "code",
   "execution_count": 15,
   "id": "6860ac59-ffe5-4624-b6ed-67b1a36d8fbf",
   "metadata": {},
   "outputs": [
    {
     "name": "stdout",
     "output_type": "stream",
     "text": [
      "1\n",
      "2\n",
      "3\n",
      "4\n",
      "5\n",
      "Done\n"
     ]
    }
   ],
   "source": [
    "i = 1\n",
    "while i <=5:\n",
    "    print(i)\n",
    "    i = i + 1\n",
    "print(\"Done\")"
   ]
  },
  {
   "cell_type": "code",
   "execution_count": 1,
   "id": "38b1d38f-68a4-4aa9-922a-23e0bc06d8e2",
   "metadata": {},
   "outputs": [
    {
     "name": "stdout",
     "output_type": "stream",
     "text": [
      "*\n",
      "**\n",
      "***\n",
      "****\n",
      "*****\n",
      "Done\n"
     ]
    }
   ],
   "source": [
    "i = 1\n",
    "while i <=5:\n",
    "    print('*' * i)\n",
    "    i = i + 1\n",
    "print(\"Done\")"
   ]
  },
  {
   "cell_type": "markdown",
   "id": "e6be22b8-4c94-4c50-9cce-250d68f6da77",
   "metadata": {},
   "source": [
    "## Building a Guessing Game"
   ]
  },
  {
   "cell_type": "code",
   "execution_count": 21,
   "id": "328708f8-b22d-4a9f-bf13-6df25ea93fb5",
   "metadata": {},
   "outputs": [
    {
     "name": "stdout",
     "output_type": "stream",
     "text": [
      "Guess:  9\n",
      "You won!\n"
     ]
    }
   ],
   "source": [
    "secret_number = 9\n",
    "guess_count = 0\n",
    "guess_limit = 3\n",
    "while guess_count < guess_limit:\n",
    "    guess = int(input('Guess: '))\n",
    "    guess_count += 1\n",
    "    if guess == secret_number:\n",
    "        print('You won!')\n",
    "        break\n",
    "else:\n",
    "    print('Sorry, you failed!')"
   ]
  },
  {
   "cell_type": "markdown",
   "id": "2dbe3bbf-82d7-4500-8d6c-b888fce22838",
   "metadata": {},
   "source": [
    "## Building the Car Game"
   ]
  },
  {
   "cell_type": "code",
   "execution_count": 3,
   "id": "463bf20a-bd26-4b69-9789-3e3c6edfa2a9",
   "metadata": {},
   "outputs": [
    {
     "name": "stdout",
     "output_type": "stream",
     "text": [
      "Car started... Ready to go!\n",
      "Car is already started!\n",
      "Car stopped.\n",
      "Car is already stopped!\n",
      "\n",
      "> start - to start the car\n",
      "> stop - to stop the car\n",
      "> quit - to exit\n",
      "\n"
     ]
    }
   ],
   "source": [
    "command = \"\"\n",
    "started = False\n",
    "stopped = True\n",
    "help_msg = '''\n",
    "> start - to start the car\n",
    "> stop - to stop the car\n",
    "> quit - to exit\n",
    "'''\n",
    "while True:\n",
    "    command = input(\"> \").lower()\n",
    "    if command == \"start\":\n",
    "        if started:\n",
    "            print(\"Car is already started!\")\n",
    "        else:\n",
    "            started = True\n",
    "            stopped = False\n",
    "            print(\"Car started... Ready to go!\")\n",
    "    elif command == \"stop\":\n",
    "        if not started:\n",
    "            print(\"Car is already stopped!\")\n",
    "        else:\n",
    "            started = False\n",
    "            print(\"Car stopped.\")\n",
    "    elif command == \"help\":\n",
    "        print(help_msg)\n",
    "    elif command == \"quit\":\n",
    "        break\n",
    "    else:\n",
    "        print(\"I don't understand that...\")"
   ]
  },
  {
   "cell_type": "markdown",
   "id": "3d739ddf-9889-4a38-8c65-836ff61f8b77",
   "metadata": {},
   "source": [
    "## For Loops\n",
    "\n",
    "Used to iterate over items of a collection\n",
    "\n",
    "Such as a:\n",
    "- string - because string is a sequence of character"
   ]
  },
  {
   "cell_type": "code",
   "execution_count": 30,
   "id": "1ea999b0-8d19-45d8-bb36-b5f286c0204b",
   "metadata": {},
   "outputs": [
    {
     "name": "stdout",
     "output_type": "stream",
     "text": [
      "P\n",
      "y\n",
      "t\n",
      "h\n",
      "o\n",
      "n\n"
     ]
    }
   ],
   "source": [
    "for item in 'Python':\n",
    "    print(item)"
   ]
  },
  {
   "cell_type": "code",
   "execution_count": 31,
   "id": "928b1d7f-53b6-4d0e-a2e2-a0563e984f4e",
   "metadata": {},
   "outputs": [
    {
     "name": "stdout",
     "output_type": "stream",
     "text": [
      "Mosh\n",
      "John\n",
      "Sarah\n"
     ]
    }
   ],
   "source": [
    "for item in ['Mosh','John','Sarah']:\n",
    "    print(item)"
   ]
  },
  {
   "cell_type": "code",
   "execution_count": 32,
   "id": "265b39e4-73ba-49bd-a36b-1b23a47a617d",
   "metadata": {},
   "outputs": [
    {
     "name": "stdout",
     "output_type": "stream",
     "text": [
      "1\n",
      "2\n",
      "3\n",
      "4\n"
     ]
    }
   ],
   "source": [
    "for item in [1,2,3,4]:\n",
    "    print(item)"
   ]
  },
  {
   "cell_type": "code",
   "execution_count": 37,
   "id": "f7ead578-6e60-497a-b74f-a47c2154f2f3",
   "metadata": {},
   "outputs": [
    {
     "name": "stdout",
     "output_type": "stream",
     "text": [
      "0\n",
      "1\n",
      "2\n",
      "3\n",
      "4\n"
     ]
    }
   ],
   "source": [
    "for item in range(5):\n",
    "    print(item)"
   ]
  },
  {
   "cell_type": "code",
   "execution_count": 40,
   "id": "fe525842-8723-4789-97d7-0d5d757e4929",
   "metadata": {},
   "outputs": [
    {
     "name": "stdout",
     "output_type": "stream",
     "text": [
      "5\n",
      "7\n",
      "9\n"
     ]
    }
   ],
   "source": [
    "for item in range(5, 10, 2):\n",
    "    print(item)"
   ]
  },
  {
   "cell_type": "code",
   "execution_count": 44,
   "id": "24d59e82-e2be-45e3-a412-e4c9f4d16689",
   "metadata": {},
   "outputs": [
    {
     "name": "stdout",
     "output_type": "stream",
     "text": [
      "Total: 60\n"
     ]
    }
   ],
   "source": [
    "prices = [10, 20, 30]\n",
    "\n",
    "total = 0\n",
    "for price in prices:\n",
    "    total += price\n",
    "print(f\"Total: {total}\")"
   ]
  },
  {
   "cell_type": "markdown",
   "id": "a8717468-c937-40a9-9591-38d221b286e9",
   "metadata": {
    "tags": []
   },
   "source": [
    "## Nested Loops\n",
    "\n",
    "```\n",
    "(x, y)\n",
    "(0, 0)\n",
    "(0, 1)\n",
    "(0, 2)\n",
    "(1, 0)\n",
    "(1, 1)\n",
    "(1, 2)\n",
    "```"
   ]
  },
  {
   "cell_type": "code",
   "execution_count": 46,
   "id": "df9db59f-bbb9-48cb-828e-021aafd38ee1",
   "metadata": {
    "tags": []
   },
   "outputs": [
    {
     "name": "stdout",
     "output_type": "stream",
     "text": [
      "(0,0)\n",
      "(0,1)\n",
      "(0,2)\n",
      "(1,0)\n",
      "(1,1)\n",
      "(1,2)\n",
      "(2,0)\n",
      "(2,1)\n",
      "(2,2)\n",
      "(3,0)\n",
      "(3,1)\n",
      "(3,2)\n"
     ]
    }
   ],
   "source": [
    "for x in range(4):\n",
    "    for  y in range(3):\n",
    "        print(f'({x},{y})')"
   ]
  },
  {
   "cell_type": "code",
   "execution_count": 52,
   "id": "7807709d-e744-4746-94a8-9ba06ba13dc0",
   "metadata": {},
   "outputs": [
    {
     "name": "stdout",
     "output_type": "stream",
     "text": [
      "xxxxx\n",
      "xx\n",
      "xxxxx\n",
      "xx\n",
      "xx\n"
     ]
    }
   ],
   "source": [
    "numbers = [5, 2, 5, 2, 2]\n",
    "for x_count in numbers:\n",
    "    print('x' * x_count)"
   ]
  },
  {
   "cell_type": "code",
   "execution_count": 53,
   "id": "aa6b8b0c-ce35-4ac8-a4e7-f9743ddc0989",
   "metadata": {},
   "outputs": [
    {
     "name": "stdout",
     "output_type": "stream",
     "text": [
      "xxxxx\n",
      "xx\n",
      "xxxxx\n",
      "xx\n",
      "xx\n"
     ]
    }
   ],
   "source": [
    "numbers = [5, 2, 5, 2, 2]\n",
    "for x_count in numbers:\n",
    "    output = ''\n",
    "    for count in range(x_count):\n",
    "        output += 'x'\n",
    "    print(output)"
   ]
  },
  {
   "cell_type": "markdown",
   "id": "927a639c-8450-4b7f-b161-49724b4d27d9",
   "metadata": {},
   "source": [
    "## Lists"
   ]
  },
  {
   "cell_type": "code",
   "execution_count": 64,
   "id": "9fa1433d-8002-4954-9a55-1fca5498b1ed",
   "metadata": {},
   "outputs": [
    {
     "name": "stdout",
     "output_type": "stream",
     "text": [
      "Mosh\n",
      "['Mosh', 'Sarah']\n",
      "['Mosh', 'Sarah', 'Mary']\n",
      "['John', 'Bob', 'Mosh', 'Sarah', 'Mary']\n"
     ]
    }
   ],
   "source": [
    "names = ['John', 'Bob', 'Mosh', 'Sarah', 'Mary']\n",
    "print(names[2])\n",
    "print(names[2:4])\n",
    "print(names[2:])\n",
    "print(names)"
   ]
  },
  {
   "cell_type": "code",
   "execution_count": 70,
   "id": "04e9b7fd-3b24-4dcf-bf9a-83ca3d494d62",
   "metadata": {},
   "outputs": [
    {
     "name": "stdout",
     "output_type": "stream",
     "text": [
      "10\n"
     ]
    }
   ],
   "source": [
    "numbers = [3, 6, 2, 8, 4, 10]\n",
    "max = numbers[0]\n",
    "for number in numbers:\n",
    "    if number > max:\n",
    "        max = number\n",
    "print(max)"
   ]
  },
  {
   "cell_type": "markdown",
   "id": "19be1e70-f584-4163-bf36-5ca081d8302c",
   "metadata": {},
   "source": [
    "### 2D Lists\n",
    "\n",
    "3x3 matrix\n",
    "```\n",
    "3 3 3\n",
    "4 5 6\n",
    "7 8 9   \n",
    "```"
   ]
  },
  {
   "cell_type": "code",
   "execution_count": 5,
   "id": "d98f35a0-dc92-45ab-bc5c-f4ae97b7aa67",
   "metadata": {},
   "outputs": [
    {
     "name": "stdout",
     "output_type": "stream",
     "text": [
      "1\n",
      "2\n",
      "3\n",
      "4\n",
      "5\n",
      "6\n",
      "7\n",
      "8\n",
      "9\n"
     ]
    }
   ],
   "source": [
    "matrix = [\n",
    "    [1, 2, 3],\n",
    "    [4, 5, 6],\n",
    "    [7, 8, 9]\n",
    "]\n",
    "for row in matrix:\n",
    "    for item in row:\n",
    "        print(item)\n"
   ]
  },
  {
   "cell_type": "markdown",
   "id": "c60fd7a4-d346-4e8c-a5e1-68d3baa4aceb",
   "metadata": {},
   "source": [
    "### List Methods/Functions"
   ]
  },
  {
   "cell_type": "code",
   "execution_count": 6,
   "id": "d3601c77-9c2d-4b55-a159-f1721eef5e87",
   "metadata": {},
   "outputs": [
    {
     "name": "stdout",
     "output_type": "stream",
     "text": [
      "[5, 2, 1, 7, 4, 20]\n"
     ]
    }
   ],
   "source": [
    "numbers = [5, 2, 1, 7, 4]\n",
    "numbers.append(20) # Add new items to this list\n",
    "print(numbers)"
   ]
  },
  {
   "cell_type": "code",
   "execution_count": 7,
   "id": "3eb07cf2-8e12-4f56-bae3-3602fc8fa7e1",
   "metadata": {},
   "outputs": [
    {
     "name": "stdout",
     "output_type": "stream",
     "text": [
      "[5, 2, 1, 7, 4, 20]\n"
     ]
    }
   ],
   "source": [
    "# Append - Add new items to this list\n",
    "numbers = [5, 2, 1, 7, 4]\n",
    "numbers.append(20)\n",
    "print(numbers)"
   ]
  },
  {
   "cell_type": "code",
   "execution_count": 8,
   "id": "adc7993c-bef1-4ff8-9431-160bc9531b6a",
   "metadata": {},
   "outputs": [
    {
     "name": "stdout",
     "output_type": "stream",
     "text": [
      "[10, 5, 2, 1, 7, 4]\n"
     ]
    }
   ],
   "source": [
    "# Insert - Add new items in this list\n",
    "numbers = [5, 2, 1, 7, 4]\n",
    "numbers.insert(0, 10)\n",
    "print(numbers)"
   ]
  },
  {
   "cell_type": "code",
   "execution_count": 9,
   "id": "942e91c3-0b52-4802-a28d-aefe996f6f90",
   "metadata": {},
   "outputs": [
    {
     "name": "stdout",
     "output_type": "stream",
     "text": [
      "[2, 1, 7, 4]\n"
     ]
    }
   ],
   "source": [
    "# Remove - remove items in this list\n",
    "numbers = [5, 2, 1, 7, 4]\n",
    "numbers.remove(5)\n",
    "print(numbers)"
   ]
  },
  {
   "cell_type": "code",
   "execution_count": 1,
   "id": "7d749a18-ca0e-43b4-b46b-bf0da9fc7bc8",
   "metadata": {},
   "outputs": [
    {
     "name": "stdout",
     "output_type": "stream",
     "text": [
      "[]\n"
     ]
    }
   ],
   "source": [
    "# Clear - remove all items in the list\n",
    "numbers = [5, 2, 1, 7, 4]\n",
    "numbers.clear()\n",
    "print(numbers)"
   ]
  },
  {
   "cell_type": "code",
   "execution_count": 2,
   "id": "18dc65b0",
   "metadata": {},
   "outputs": [
    {
     "name": "stdout",
     "output_type": "stream",
     "text": [
      "[5, 2, 1, 7]\n"
     ]
    }
   ],
   "source": [
    "# Pop - remove the last item in end of the list\n",
    "numbers = [5, 2, 1, 7, 4]\n",
    "numbers.pop()\n",
    "print(numbers)"
   ]
  },
  {
   "cell_type": "code",
   "execution_count": 11,
   "id": "c1807363-0efc-4304-948b-115e95c94e57",
   "metadata": {},
   "outputs": [
    {
     "name": "stdout",
     "output_type": "stream",
     "text": [
      "0\n"
     ]
    }
   ],
   "source": [
    "# Index - returns the index of the first occurence of this item\n",
    "numbers = [5, 2, 1, 7, 4]\n",
    "print(numbers.index(5))"
   ]
  },
  {
   "cell_type": "code",
   "execution_count": 5,
   "id": "3c7a3725",
   "metadata": {},
   "outputs": [
    {
     "ename": "ValueError",
     "evalue": "50 is not in list",
     "output_type": "error",
     "traceback": [
      "\u001b[1;31m---------------------------------------------------------------------------\u001b[0m",
      "\u001b[1;31mValueError\u001b[0m                                Traceback (most recent call last)",
      "\u001b[1;32mc:\\Users\\Chris\\Documents\\GitHub\\LearningPython\\Youtube\\Mosh.ipynb Cell 85\u001b[0m in \u001b[0;36m<cell line: 3>\u001b[1;34m()\u001b[0m\n\u001b[0;32m      <a href='vscode-notebook-cell:/c%3A/Users/Chris/Documents/GitHub/LearningPython/Youtube/Mosh.ipynb#ch0000094?line=0'>1</a>\u001b[0m \u001b[39m# Index - returns the index of the first occurence of this item\u001b[39;00m\n\u001b[0;32m      <a href='vscode-notebook-cell:/c%3A/Users/Chris/Documents/GitHub/LearningPython/Youtube/Mosh.ipynb#ch0000094?line=1'>2</a>\u001b[0m numbers \u001b[39m=\u001b[39m [\u001b[39m5\u001b[39m, \u001b[39m2\u001b[39m, \u001b[39m1\u001b[39m, \u001b[39m7\u001b[39m, \u001b[39m4\u001b[39m]\n\u001b[1;32m----> <a href='vscode-notebook-cell:/c%3A/Users/Chris/Documents/GitHub/LearningPython/Youtube/Mosh.ipynb#ch0000094?line=2'>3</a>\u001b[0m \u001b[39mprint\u001b[39m(numbers\u001b[39m.\u001b[39;49mindex(\u001b[39m50\u001b[39;49m))\n",
      "\u001b[1;31mValueError\u001b[0m: 50 is not in list"
     ]
    }
   ],
   "source": [
    "# Index - returns the index of the first occurence of this item\n",
    "numbers = [5, 2, 1, 7, 4]\n",
    "print(numbers.index(50))"
   ]
  },
  {
   "cell_type": "code",
   "execution_count": 6,
   "id": "4ad2e930",
   "metadata": {},
   "outputs": [
    {
     "name": "stdout",
     "output_type": "stream",
     "text": [
      "False\n"
     ]
    }
   ],
   "source": [
    "# In - check  the existence of an item\n",
    "numbers = [5, 2, 1, 7, 4]\n",
    "print(50 in numbers)"
   ]
  },
  {
   "cell_type": "code",
   "execution_count": 8,
   "id": "b6ecb481",
   "metadata": {},
   "outputs": [
    {
     "name": "stdout",
     "output_type": "stream",
     "text": [
      "2\n"
     ]
    }
   ],
   "source": [
    "# In - counting the occurence of an item\n",
    "numbers = [5, 2, 1, 5, 7, 4]\n",
    "print(numbers.count(5))"
   ]
  },
  {
   "cell_type": "code",
   "execution_count": 9,
   "id": "27e832d2",
   "metadata": {},
   "outputs": [
    {
     "name": "stdout",
     "output_type": "stream",
     "text": [
      "[1, 2, 4, 5, 5, 7]\n"
     ]
    }
   ],
   "source": [
    "# Sort - asc\n",
    "numbers = [5, 2, 1, 5, 7, 4]\n",
    "numbers.sort()\n",
    "print(numbers)"
   ]
  },
  {
   "cell_type": "code",
   "execution_count": 12,
   "id": "861a53ef",
   "metadata": {},
   "outputs": [
    {
     "name": "stdout",
     "output_type": "stream",
     "text": [
      "[7, 5, 5, 4, 2, 1]\n"
     ]
    }
   ],
   "source": [
    "# Sort - desc\n",
    "numbers = [5, 2, 1, 5, 7, 4]\n",
    "numbers.sort()\n",
    "numbers.reverse()\n",
    "print(numbers)"
   ]
  },
  {
   "cell_type": "code",
   "execution_count": 14,
   "id": "8f5cfbb0",
   "metadata": {},
   "outputs": [
    {
     "name": "stdout",
     "output_type": "stream",
     "text": [
      "[5, 2, 1, 5, 7, 4, 10]\n",
      "[5, 2, 1, 5, 7, 4]\n"
     ]
    }
   ],
   "source": [
    "# Copy - copy of our list\n",
    "numbers = [5, 2, 1, 5, 7, 4]\n",
    "numbers2 = numbers.copy()\n",
    "numbers.append(10)\n",
    "print(numbers)\n",
    "print(numbers2)"
   ]
  },
  {
   "cell_type": "code",
   "execution_count": 15,
   "id": "2298ac27",
   "metadata": {},
   "outputs": [
    {
     "name": "stdout",
     "output_type": "stream",
     "text": [
      "[2, 4, 6, 3, 1]\n"
     ]
    }
   ],
   "source": [
    "# Remove duplicates\n",
    "numbers = [2, 2, 4, 6, 3, 4, 6, 1]\n",
    "uniques = []\n",
    "for number in numbers:\n",
    "    if number not in uniques:\n",
    "        uniques.append(number)\n",
    "print(uniques)"
   ]
  },
  {
   "cell_type": "markdown",
   "id": "351789f6",
   "metadata": {},
   "source": [
    "## Tuples\n",
    "\n",
    "Tuples are similar to list but unlike list, we cannot:\n",
    "- modify\n",
    "- add item\n",
    "- remove item\n",
    "- mutate\n",
    "- change"
   ]
  },
  {
   "cell_type": "code",
   "execution_count": 19,
   "id": "399add4c",
   "metadata": {},
   "outputs": [
    {
     "name": "stdout",
     "output_type": "stream",
     "text": [
      "1\n"
     ]
    }
   ],
   "source": [
    "numbers = (1, 2, 3)\n",
    "print(numbers[0])\n"
   ]
  },
  {
   "cell_type": "markdown",
   "id": "e201a09d",
   "metadata": {},
   "source": [
    "## Unpacking\n",
    "\n",
    "- Tuple\n",
    "- List"
   ]
  },
  {
   "cell_type": "code",
   "execution_count": 20,
   "id": "e1b117ef",
   "metadata": {},
   "outputs": [
    {
     "data": {
      "text/plain": [
       "6"
      ]
     },
     "execution_count": 20,
     "metadata": {},
     "output_type": "execute_result"
    }
   ],
   "source": [
    "coordinates = (1, 2, 3)\n",
    "x = coordinates[0]\n",
    "y = coordinates[1]\n",
    "z = coordinates[2]\n",
    "\n",
    "x * y * z"
   ]
  },
  {
   "cell_type": "markdown",
   "id": "cd3dc233",
   "metadata": {},
   "source": [
    "### Tuple"
   ]
  },
  {
   "cell_type": "code",
   "execution_count": 23,
   "id": "303ecdfe",
   "metadata": {},
   "outputs": [
    {
     "name": "stdout",
     "output_type": "stream",
     "text": [
      "1\n",
      "2\n",
      "3\n"
     ]
    }
   ],
   "source": [
    "coordinates = (1, 2, 3)\n",
    "x, y, z = coordinates\n",
    "print(x)\n",
    "print(y)\n",
    "print(z)"
   ]
  },
  {
   "cell_type": "markdown",
   "id": "2b82a256",
   "metadata": {},
   "source": [
    "### List"
   ]
  },
  {
   "cell_type": "code",
   "execution_count": 25,
   "id": "23a3bab3",
   "metadata": {},
   "outputs": [
    {
     "name": "stdout",
     "output_type": "stream",
     "text": [
      "1\n",
      "2\n",
      "3\n"
     ]
    }
   ],
   "source": [
    "coordinates = [1, 2, 3]\n",
    "x, y, z = coordinates\n",
    "print(x)\n",
    "print(y)\n",
    "print(z)"
   ]
  },
  {
   "cell_type": "markdown",
   "id": "7d8e071b",
   "metadata": {},
   "source": [
    "## Dictionaries\n",
    "\n",
    "Store information that come as key value pairs"
   ]
  },
  {
   "cell_type": "code",
   "execution_count": null,
   "id": "9a0580b2",
   "metadata": {},
   "outputs": [],
   "source": [
    "Name: John Smith\n",
    "Email: john@gmail.com\n",
    "Phone: 1234"
   ]
  },
  {
   "cell_type": "code",
   "execution_count": 31,
   "id": "3f4b4139",
   "metadata": {},
   "outputs": [
    {
     "name": "stdout",
     "output_type": "stream",
     "text": [
      "John Smith\n"
     ]
    },
    {
     "ename": "KeyError",
     "evalue": "'birthdate'",
     "output_type": "error",
     "traceback": [
      "\u001b[1;31m---------------------------------------------------------------------------\u001b[0m",
      "\u001b[1;31mKeyError\u001b[0m                                  Traceback (most recent call last)",
      "\u001b[1;32mc:\\Users\\Chris\\Documents\\GitHub\\LearningPython\\Youtube\\Mosh.ipynb Cell 102\u001b[0m in \u001b[0;36m<cell line: 10>\u001b[1;34m()\u001b[0m\n\u001b[0;32m      <a href='vscode-notebook-cell:/c%3A/Users/Chris/Documents/GitHub/LearningPython/Youtube/Mosh.ipynb#ch0000121?line=2'>3</a>\u001b[0m customer \u001b[39m=\u001b[39m {\n\u001b[0;32m      <a href='vscode-notebook-cell:/c%3A/Users/Chris/Documents/GitHub/LearningPython/Youtube/Mosh.ipynb#ch0000121?line=3'>4</a>\u001b[0m     \u001b[39m\"\u001b[39m\u001b[39mname\u001b[39m\u001b[39m\"\u001b[39m: \u001b[39m\"\u001b[39m\u001b[39mJohn Smith\u001b[39m\u001b[39m\"\u001b[39m,\n\u001b[0;32m      <a href='vscode-notebook-cell:/c%3A/Users/Chris/Documents/GitHub/LearningPython/Youtube/Mosh.ipynb#ch0000121?line=4'>5</a>\u001b[0m     \u001b[39m\"\u001b[39m\u001b[39mage\u001b[39m\u001b[39m\"\u001b[39m: \u001b[39m30\u001b[39m,\n\u001b[0;32m      <a href='vscode-notebook-cell:/c%3A/Users/Chris/Documents/GitHub/LearningPython/Youtube/Mosh.ipynb#ch0000121?line=5'>6</a>\u001b[0m     \u001b[39m\"\u001b[39m\u001b[39mis_verified\u001b[39m\u001b[39m\"\u001b[39m: \u001b[39mTrue\u001b[39;00m\n\u001b[0;32m      <a href='vscode-notebook-cell:/c%3A/Users/Chris/Documents/GitHub/LearningPython/Youtube/Mosh.ipynb#ch0000121?line=6'>7</a>\u001b[0m }\n\u001b[0;32m      <a href='vscode-notebook-cell:/c%3A/Users/Chris/Documents/GitHub/LearningPython/Youtube/Mosh.ipynb#ch0000121?line=7'>8</a>\u001b[0m \u001b[39mprint\u001b[39m(customer[\u001b[39m\"\u001b[39m\u001b[39mname\u001b[39m\u001b[39m\"\u001b[39m])\n\u001b[1;32m---> <a href='vscode-notebook-cell:/c%3A/Users/Chris/Documents/GitHub/LearningPython/Youtube/Mosh.ipynb#ch0000121?line=9'>10</a>\u001b[0m \u001b[39mprint\u001b[39m(customer[\u001b[39m\"\u001b[39;49m\u001b[39mbirthdate\u001b[39;49m\u001b[39m\"\u001b[39;49m])\n",
      "\u001b[1;31mKeyError\u001b[0m: 'birthdate'"
     ]
    }
   ],
   "source": [
    "# Brackets\n",
    "\n",
    "customer = {\n",
    "    \"name\": \"John Smith\",\n",
    "    \"age\": 30,\n",
    "    \"is_verified\": True\n",
    "}\n",
    "print(customer[\"name\"])\n",
    "\n",
    "print(customer[\"birthdate\"])"
   ]
  },
  {
   "cell_type": "code",
   "execution_count": 34,
   "id": "958b2924",
   "metadata": {},
   "outputs": [
    {
     "name": "stdout",
     "output_type": "stream",
     "text": [
      "John Smith\n",
      "None\n",
      "Jan 1 1980\n"
     ]
    }
   ],
   "source": [
    "# Get\n",
    "\n",
    "customer = {\n",
    "    \"name\": \"John Smith\",\n",
    "    \"age\": 30,\n",
    "    \"is_verified\": True\n",
    "}\n",
    "print(customer.get(\"name\"))\n",
    "\n",
    "print(customer.get(\"birthdate\"))\n",
    "\n",
    "# Default value\n",
    "print(customer.get(\"birthdate\", \"Jan 1 1980\"))\n"
   ]
  },
  {
   "cell_type": "code",
   "execution_count": 37,
   "id": "fd8a355a",
   "metadata": {},
   "outputs": [
    {
     "name": "stdout",
     "output_type": "stream",
     "text": [
      "Jack Smith\n",
      "Jan 1 1980\n"
     ]
    }
   ],
   "source": [
    "# Update values\n",
    "\n",
    "customer = {\n",
    "    \"name\": \"John Smith\",\n",
    "    \"age\": 30,\n",
    "    \"is_verified\": True\n",
    "}\n",
    "customer[\"name\"] = \"Jack Smith\"\n",
    "print(customer.get(\"name\"))\n",
    "\n",
    "customer[\"birthdate\"] = \"Jan 1 1980\"\n",
    "print(customer.get(\"birthdate\"))"
   ]
  },
  {
   "cell_type": "markdown",
   "id": "2cefb5c1",
   "metadata": {},
   "source": [
    "## Building translator (Dictionaries)"
   ]
  },
  {
   "cell_type": "code",
   "execution_count": 40,
   "id": "1ad73b61",
   "metadata": {},
   "outputs": [
    {
     "name": "stdout",
     "output_type": "stream",
     "text": [
      "One Two Three Four ! \n"
     ]
    }
   ],
   "source": [
    "phone = input(\"Phone: \")\n",
    "digits_mapping = {\n",
    "    \"1\": \"One\",\n",
    "    \"2\": \"Two\",\n",
    "    \"3\": \"Three\",\n",
    "    \"4\": \"Four\"\n",
    "}\n",
    "output = \"\"\n",
    "for ch in phone:\n",
    "    output += digits_mapping.get(ch, \"!\") + \" \"\n",
    "print(output)"
   ]
  },
  {
   "cell_type": "markdown",
   "id": "71fda631",
   "metadata": {},
   "source": [
    "## Emoji Converter (Dictionaries)"
   ]
  },
  {
   "cell_type": "code",
   "execution_count": 3,
   "id": "1e6823c1",
   "metadata": {},
   "outputs": [
    {
     "name": "stdout",
     "output_type": "stream",
     "text": [
      "Good Morning Sunshine 😁 \n"
     ]
    }
   ],
   "source": [
    "message = input(\"> \")\n",
    "words = message.split(' ')\n",
    "emojis = {\n",
    "    \":)\": \"😁\",\n",
    "    \":(\": \"😥\"\n",
    "}\n",
    "output = \"\"\n",
    "for word in words:\n",
    "    output += emojis.get(word, word) + \" \"\n",
    "print(output)"
   ]
  },
  {
   "cell_type": "markdown",
   "id": "ef172372",
   "metadata": {},
   "source": [
    "## Functions"
   ]
  },
  {
   "cell_type": "code",
   "execution_count": 4,
   "id": "1f59ebe0",
   "metadata": {},
   "outputs": [
    {
     "name": "stdout",
     "output_type": "stream",
     "text": [
      "Start\n",
      "Hi there!\n",
      "Welcome aboard!\n",
      "Finish\n"
     ]
    }
   ],
   "source": [
    "def greet_user():\n",
    "    print('Hi there!')\n",
    "    print('Welcome aboard!')\n",
    "\n",
    "\n",
    "print(\"Start\")\n",
    "greet_user()\n",
    "print(\"Finish\")"
   ]
  },
  {
   "cell_type": "markdown",
   "id": "249feb44",
   "metadata": {},
   "source": [
    "## Parameters"
   ]
  },
  {
   "cell_type": "code",
   "execution_count": 7,
   "id": "48b727b3",
   "metadata": {},
   "outputs": [
    {
     "name": "stdout",
     "output_type": "stream",
     "text": [
      "Start\n",
      "Hi John Smith!\n",
      "Welcome aboard!\n",
      "Finish\n"
     ]
    }
   ],
   "source": [
    "def greet_user(first_name, last_name):\n",
    "    print(f'Hi {first_name} {last_name}!')\n",
    "    print('Welcome aboard!')\n",
    "\n",
    "\n",
    "print(\"Start\")\n",
    "greet_user(\"John\", \"Smith\")\n",
    "print(\"Finish\")"
   ]
  },
  {
   "cell_type": "markdown",
   "id": "037b12ae",
   "metadata": {},
   "source": [
    "## Keyword Arguments"
   ]
  },
  {
   "cell_type": "code",
   "execution_count": 8,
   "id": "953923bd",
   "metadata": {},
   "outputs": [
    {
     "name": "stdout",
     "output_type": "stream",
     "text": [
      "Start\n"
     ]
    },
    {
     "ename": "TypeError",
     "evalue": "greet_user() missing 1 required positional argument: 'last_name'",
     "output_type": "error",
     "traceback": [
      "\u001b[1;31m---------------------------------------------------------------------------\u001b[0m",
      "\u001b[1;31mTypeError\u001b[0m                                 Traceback (most recent call last)",
      "\u001b[1;32mc:\\Users\\Chris\\Documents\\GitHub\\LearningPython\\Youtube\\Mosh.ipynb Cell 114\u001b[0m in \u001b[0;36m<cell line: 7>\u001b[1;34m()\u001b[0m\n\u001b[0;32m      <a href='vscode-notebook-cell:/c%3A/Users/Chris/Documents/GitHub/LearningPython/Youtube/Mosh.ipynb#ch0000121?line=2'>3</a>\u001b[0m     \u001b[39mprint\u001b[39m(\u001b[39m'\u001b[39m\u001b[39mWelcome aboard!\u001b[39m\u001b[39m'\u001b[39m)\n\u001b[0;32m      <a href='vscode-notebook-cell:/c%3A/Users/Chris/Documents/GitHub/LearningPython/Youtube/Mosh.ipynb#ch0000121?line=5'>6</a>\u001b[0m \u001b[39mprint\u001b[39m(\u001b[39m\"\u001b[39m\u001b[39mStart\u001b[39m\u001b[39m\"\u001b[39m)\n\u001b[1;32m----> <a href='vscode-notebook-cell:/c%3A/Users/Chris/Documents/GitHub/LearningPython/Youtube/Mosh.ipynb#ch0000121?line=6'>7</a>\u001b[0m greet_user(\u001b[39m\"\u001b[39;49m\u001b[39mJohn\u001b[39;49m\u001b[39m\"\u001b[39;49m)\n\u001b[0;32m      <a href='vscode-notebook-cell:/c%3A/Users/Chris/Documents/GitHub/LearningPython/Youtube/Mosh.ipynb#ch0000121?line=7'>8</a>\u001b[0m \u001b[39mprint\u001b[39m(\u001b[39m\"\u001b[39m\u001b[39mFinish\u001b[39m\u001b[39m\"\u001b[39m)\n",
      "\u001b[1;31mTypeError\u001b[0m: greet_user() missing 1 required positional argument: 'last_name'"
     ]
    }
   ],
   "source": [
    "# positional arguments\n",
    "\n",
    "def greet_user(first_name, last_name):\n",
    "    print(f'Hi {first_name} {last_name}!')\n",
    "    print('Welcome aboard!')\n",
    "\n",
    "\n",
    "print(\"Start\")\n",
    "greet_user(\"John\")\n",
    "print(\"Finish\")"
   ]
  },
  {
   "cell_type": "code",
   "execution_count": 10,
   "id": "bb68fdf0",
   "metadata": {},
   "outputs": [
    {
     "name": "stdout",
     "output_type": "stream",
     "text": [
      "Start\n",
      "Hi John Smith!\n",
      "Welcome aboard!\n",
      "Finish\n"
     ]
    }
   ],
   "source": [
    "# keyword arguments\n",
    "\n",
    "def greet_user(first_name, last_name):\n",
    "    print(f'Hi {first_name} {last_name}!')\n",
    "    print('Welcome aboard!')\n",
    "\n",
    "\n",
    "print(\"Start\")\n",
    "greet_user(last_name=\"Smith\", first_name=\"John\")\n",
    "print(\"Finish\")"
   ]
  },
  {
   "cell_type": "markdown",
   "id": "36ba2a70",
   "metadata": {},
   "source": [
    "## Return Statement"
   ]
  },
  {
   "cell_type": "code",
   "execution_count": 13,
   "id": "c923d43b",
   "metadata": {},
   "outputs": [
    {
     "name": "stdout",
     "output_type": "stream",
     "text": [
      "9\n"
     ]
    }
   ],
   "source": [
    "def square(number):\n",
    "    return number * number\n",
    "\n",
    "print(square(3))"
   ]
  },
  {
   "cell_type": "markdown",
   "id": "a178ad09",
   "metadata": {},
   "source": [
    "## Creating a Reusable Function"
   ]
  },
  {
   "cell_type": "code",
   "execution_count": 16,
   "id": "02474ef0",
   "metadata": {},
   "outputs": [
    {
     "name": "stdout",
     "output_type": "stream",
     "text": [
      "Good Morning 😁 \n"
     ]
    }
   ],
   "source": [
    "def emoji_converter(message):\n",
    "    words = message.split(\" \")\n",
    "    emojis = {\n",
    "        \":)\": \"😁\",\n",
    "        \":(\": \"😥\"\n",
    "    }\n",
    "    output = \"\"\n",
    "    for word in words:\n",
    "        output += emojis.get(word, word) + \" \"\n",
    "    return output\n",
    "\n",
    "\n",
    "message = input(\"> \")\n",
    "print(emoji_converter(message))"
   ]
  },
  {
   "cell_type": "markdown",
   "id": "916bbfe3",
   "metadata": {},
   "source": [
    "## Exceptions"
   ]
  },
  {
   "cell_type": "code",
   "execution_count": 21,
   "id": "94f41274",
   "metadata": {},
   "outputs": [
    {
     "name": "stdout",
     "output_type": "stream",
     "text": [
      "Age cannot be zero\n"
     ]
    }
   ],
   "source": [
    "try:\n",
    "    age = int(input('Age: '))\n",
    "    income = 20000\n",
    "    risk = income / age\n",
    "    print(age)\n",
    "except ValueError:\n",
    "    print('Invalid value.')\n",
    "except ZeroDivisionError:\n",
    "    print('Age cannot be zero.')"
   ]
  },
  {
   "cell_type": "markdown",
   "id": "d3fa0118",
   "metadata": {},
   "source": [
    "## Classes\n",
    "\n",
    "- Numbers\n",
    "- Strings\n",
    "- Booleans\n",
    "\n",
    "---\n",
    "\n",
    "- Lists\n",
    "- Dictionaries"
   ]
  },
  {
   "cell_type": "code",
   "execution_count": 26,
   "id": "c696abdc",
   "metadata": {},
   "outputs": [
    {
     "name": "stdout",
     "output_type": "stream",
     "text": [
      "10\n",
      "draw\n",
      "1\n"
     ]
    }
   ],
   "source": [
    "class Point:\n",
    "    def move(self):\n",
    "        print(\"move\")\n",
    "\n",
    "    def draw(self):\n",
    "        print(\"draw\")\n",
    "\n",
    "\n",
    "point1 = Point()\n",
    "point1.x = 10\n",
    "point1.y = 20\n",
    "print(point1.x)\n",
    "point1.draw()\n",
    "\n",
    "point2 = Point()\n",
    "point2.x = 1\n",
    "print(point2.x)"
   ]
  },
  {
   "cell_type": "markdown",
   "id": "b45c9f7e",
   "metadata": {},
   "source": [
    "## Constructors"
   ]
  },
  {
   "cell_type": "code",
   "execution_count": 31,
   "id": "bb27d646",
   "metadata": {},
   "outputs": [
    {
     "name": "stdout",
     "output_type": "stream",
     "text": [
      "10\n"
     ]
    }
   ],
   "source": [
    "class Point:\n",
    "    def __init__(self, x, y):\n",
    "        self.x = x\n",
    "        self.y = y\n",
    "\n",
    "    def move(self):\n",
    "        print(\"move\")\n",
    "\n",
    "    def draw(self):\n",
    "        print(\"draw\")\n",
    "\n",
    "\n",
    "point = Point(10, 20)\n",
    "print(point.x)"
   ]
  },
  {
   "cell_type": "code",
   "execution_count": 53,
   "id": "fed6dc1a",
   "metadata": {},
   "outputs": [
    {
     "name": "stdout",
     "output_type": "stream",
     "text": [
      "Hi, I am John Smith\n",
      "Hi, I am Bob Smith\n"
     ]
    }
   ],
   "source": [
    "class Person:\n",
    "    def __init__(self, name):\n",
    "        self.name = name\n",
    "\n",
    "    def talk(self):\n",
    "        print(f\"Hi, I am {self.name}\")\n",
    "\n",
    "\n",
    "john = Person(\"John Smith\")\n",
    "john.talk()\n",
    "\n",
    "bob = Person(\"Bob Smith\")\n",
    "bob.talk()"
   ]
  },
  {
   "cell_type": "markdown",
   "id": "84a4d613",
   "metadata": {},
   "source": [
    "## Inheritance"
   ]
  },
  {
   "cell_type": "code",
   "execution_count": null,
   "id": "0e8b143e",
   "metadata": {},
   "outputs": [],
   "source": [
    "class Mammal:\n",
    "    def walk(self):\n",
    "        print(\"walk\")\n",
    "\n",
    "class Dog(Mammal):\n",
    "    def bark(self):\n",
    "        print(\"bark\")\n",
    "\n",
    "class Cat(Mammal):\n",
    "    def be_annoying(self):\n",
    "        print(\"annoying\")\n",
    "\n",
    "\n",
    "dog1 = Dog()\n",
    "dog1.walk()\n",
    "\n",
    "cat1 = Cat()\n",
    "cat1.be_annoying()"
   ]
  },
  {
   "cell_type": "markdown",
   "id": "200485bf",
   "metadata": {},
   "source": [
    "## Modules"
   ]
  },
  {
   "cell_type": "markdown",
   "id": "cf9cdec3",
   "metadata": {},
   "source": [
    "converters.py"
   ]
  },
  {
   "cell_type": "code",
   "execution_count": null,
   "id": "bfc38184",
   "metadata": {},
   "outputs": [],
   "source": [
    "def lbs_to_kg(weight):\n",
    "    return weight * 0.45\n",
    "\n",
    "def kg_to_lbs(weight):\n",
    "    return weight / 0.45"
   ]
  },
  {
   "cell_type": "markdown",
   "id": "2d46ab7d",
   "metadata": {},
   "source": [
    "app.py"
   ]
  },
  {
   "cell_type": "code",
   "execution_count": null,
   "id": "a1f9b008",
   "metadata": {},
   "outputs": [],
   "source": [
    "import converters\n",
    "\n",
    "print(converters.kg_to_lbs(70))"
   ]
  },
  {
   "cell_type": "markdown",
   "id": "53d82f7e",
   "metadata": {},
   "source": [
    "import specific function from module "
   ]
  },
  {
   "cell_type": "code",
   "execution_count": null,
   "id": "86ca85d0",
   "metadata": {},
   "outputs": [],
   "source": [
    "from converters import kg_to_lbs\n",
    "\n",
    "print(kg_to_lbs(70))"
   ]
  },
  {
   "cell_type": "markdown",
   "id": "cb7d76d6",
   "metadata": {},
   "source": [
    "### New module"
   ]
  },
  {
   "cell_type": "markdown",
   "id": "564be395",
   "metadata": {},
   "source": [
    "utils.py"
   ]
  },
  {
   "cell_type": "code",
   "execution_count": 56,
   "id": "4647d005",
   "metadata": {},
   "outputs": [],
   "source": [
    "def find_max(numbers):\n",
    "    maximum = numbers[0]\n",
    "    for number in numbers:\n",
    "        if number > maximum:\n",
    "            maximum = number\n",
    "    return maximum"
   ]
  },
  {
   "cell_type": "markdown",
   "id": "42158220",
   "metadata": {},
   "source": [
    "app.py"
   ]
  },
  {
   "cell_type": "code",
   "execution_count": 55,
   "id": "f5e92709",
   "metadata": {},
   "outputs": [
    {
     "name": "stdout",
     "output_type": "stream",
     "text": [
      "10\n"
     ]
    }
   ],
   "source": [
    "from utils import find_max\n",
    "\n",
    "numbers = [10, 3, 6, 2]\n",
    "maximum = find_max(numbers)\n",
    "print(maximum)"
   ]
  },
  {
   "cell_type": "markdown",
   "id": "49de48d4",
   "metadata": {},
   "source": [
    "## Packages\n",
    "\n",
    "Another way to organize codes"
   ]
  },
  {
   "cell_type": "code",
   "execution_count": 58,
   "id": "5580122a",
   "metadata": {},
   "outputs": [
    {
     "name": "stdout",
     "output_type": "stream",
     "text": [
      "calc_shipping\n"
     ]
    }
   ],
   "source": [
    "# Import specific function\n",
    "from ecommerce.shipping import calc_shipping\n",
    "\n",
    "calc_shipping()\n",
    "calc_shipping()\n",
    "calc_shipping()"
   ]
  },
  {
   "cell_type": "code",
   "execution_count": 59,
   "id": "6ed6d90b",
   "metadata": {},
   "outputs": [
    {
     "name": "stdout",
     "output_type": "stream",
     "text": [
      "calc_shipping\n"
     ]
    }
   ],
   "source": [
    "# Import the entire module\n",
    "from ecommerce import shipping\n",
    "\n",
    "shipping.calc_shipping()"
   ]
  },
  {
   "cell_type": "markdown",
   "id": "37080eba",
   "metadata": {},
   "source": [
    "## Generating Random Values\n",
    "\n",
    "Python contains standard libraries that contains module for certain tasks:\n",
    "- sending email\n",
    "- working data on time\n",
    "- generating random values\n",
    "- generating random passwords"
   ]
  },
  {
   "cell_type": "code",
   "execution_count": 77,
   "id": "e8aeb1c0",
   "metadata": {},
   "outputs": [
    {
     "name": "stdout",
     "output_type": "stream",
     "text": [
      "0.5645860199395689\n",
      "0.42062323027931536\n",
      "0.2846697716128942\n",
      "---\n",
      "20\n",
      "18\n",
      "10\n",
      "---\n",
      "Bob\n",
      "---\n"
     ]
    }
   ],
   "source": [
    "import random\n",
    "\n",
    "for i in range(3):\n",
    "    print(random.random())\n",
    "print(\"---\")\n",
    "\n",
    "for i in range(3):\n",
    "    print(random.randint(10, 20))\n",
    "print(\"---\")\n",
    "\n",
    "members = ['John', 'Mary', 'Bob', 'Mosh']\n",
    "leader = random.choice(members)\n",
    "print(leader)\n",
    "print(\"---\")\n"
   ]
  },
  {
   "cell_type": "code",
   "execution_count": 124,
   "id": "a8e6766a",
   "metadata": {},
   "outputs": [
    {
     "data": {
      "text/plain": [
       "(5, 2)"
      ]
     },
     "execution_count": 124,
     "metadata": {},
     "output_type": "execute_result"
    }
   ],
   "source": [
    "# Rolling dice\n",
    "import random\n",
    "\n",
    "\n",
    "class Dice:\n",
    "    def roll(self):\n",
    "        x = random.randint(1, 6)\n",
    "        y = random.randint(1, 6)\n",
    "        return x, y\n",
    "\n",
    "\n",
    "roll = Dice().roll\n",
    "roll()"
   ]
  },
  {
   "cell_type": "markdown",
   "id": "6ec86aa4",
   "metadata": {},
   "source": [
    "## Working with Directories\n",
    "\n",
    "Absolute path - from the root\n",
    "- C:\\Program Files\\Microsoft\n",
    "\n",
    "Relative path - from the working directory\n",
    "- Path( )"
   ]
  },
  {
   "cell_type": "code",
   "execution_count": 141,
   "id": "55796875",
   "metadata": {},
   "outputs": [
    {
     "name": "stdout",
     "output_type": "stream",
     "text": [
      "True\n"
     ]
    }
   ],
   "source": [
    "from pathlib import Path\n",
    "\n",
    "# Check directory existence\n",
    "path = Path(\"ecommerce\")\n",
    "print(path.exists())\n",
    "\n",
    "# Create new directory\n",
    "path = Path(\"emails\")\n",
    "print(path.mkdir())\n",
    "\n",
    "# Remove directory\n",
    "path = Path(\"emails\")\n",
    "print(path.rmdir())"
   ]
  },
  {
   "cell_type": "code",
   "execution_count": 147,
   "id": "646ffa3d",
   "metadata": {},
   "outputs": [
    {
     "name": "stdout",
     "output_type": "stream",
     "text": [
      ".idea\n",
      "app.py\n",
      "converters.py\n",
      "Mosh.ipynb\n",
      "utils.py\n",
      "---\n",
      ".idea\n",
      "app.py\n",
      "converters.py\n",
      "ecommerce\n",
      "Mosh.ipynb\n",
      "utils.py\n",
      "__pycache__\n"
     ]
    }
   ],
   "source": [
    "from pathlib import Path\n",
    "\n",
    "# All files\n",
    "path = Path()\n",
    "for file in path.glob('*.*'):\n",
    "    print(file)\n",
    "print(\"---\")\n",
    "\n",
    "# Files and directories\n",
    "for file in path.glob('*'):\n",
    "    print(file)"
   ]
  },
  {
   "cell_type": "markdown",
   "id": "2e01ad27",
   "metadata": {},
   "source": [
    "## Excel Automation with Python"
   ]
  },
  {
   "cell_type": "code",
   "execution_count": 13,
   "id": "66e333f6",
   "metadata": {},
   "outputs": [],
   "source": [
    "import openpyxl as xl\n",
    "from openpyxl.chart import BarChart, Reference\n",
    "\n",
    "def process_workbook(filename):\n",
    "    wb = xl.load_workbook(filename)\n",
    "    sheet = wb['Sheet1']\n",
    "\n",
    "    for row in range(2, sheet.max_row + 1):\n",
    "        cell = sheet.cell(row, 3)\n",
    "        corrected_price = cell.value * 0.9\n",
    "        corrected_price_cell = sheet.cell(row, 4)\n",
    "        corrected_price_cell.value = corrected_price\n",
    "\n",
    "    values = Reference(\n",
    "                sheet, \n",
    "                min_row = 2, \n",
    "                max_row = sheet.max_row,\n",
    "                min_col = 4,\n",
    "                max_col = 4)\n",
    "\n",
    "    chart = BarChart()\n",
    "    chart.add_data(values)\n",
    "    sheet.add_chart(chart, 'e2')\n",
    "\n",
    "    wb.save(filename)"
   ]
  },
  {
   "cell_type": "markdown",
   "id": "00539f32",
   "metadata": {},
   "source": [
    "## Machine Learning\n",
    "\n",
    "### Steps:\n",
    "1. Import the Data\n",
    "2. Clean the Data\n",
    "3. Split the Data into Training/Test Sets\n",
    "4. Create a Model\n",
    "5. Train the Model\n",
    "6. Make Predictions\n",
    "7. Evaluate and Improve\n",
    "\n",
    "### Libraries\n",
    "- NumPy\n",
    "- pandas\n",
    "- MatPlotLib\n",
    "- Scikit-Learn"
   ]
  },
  {
   "cell_type": "markdown",
   "id": "c2252f1a",
   "metadata": {},
   "source": [
    "### Import a Data Set"
   ]
  },
  {
   "cell_type": "code",
   "execution_count": 2,
   "id": "b15cea89",
   "metadata": {},
   "outputs": [
    {
     "data": {
      "text/html": [
       "<div>\n",
       "<style scoped>\n",
       "    .dataframe tbody tr th:only-of-type {\n",
       "        vertical-align: middle;\n",
       "    }\n",
       "\n",
       "    .dataframe tbody tr th {\n",
       "        vertical-align: top;\n",
       "    }\n",
       "\n",
       "    .dataframe thead th {\n",
       "        text-align: right;\n",
       "    }\n",
       "</style>\n",
       "<table border=\"1\" class=\"dataframe\">\n",
       "  <thead>\n",
       "    <tr style=\"text-align: right;\">\n",
       "      <th></th>\n",
       "      <th>Rank</th>\n",
       "      <th>Name</th>\n",
       "      <th>Platform</th>\n",
       "      <th>Year</th>\n",
       "      <th>Genre</th>\n",
       "      <th>Publisher</th>\n",
       "      <th>NA_Sales</th>\n",
       "      <th>EU_Sales</th>\n",
       "      <th>JP_Sales</th>\n",
       "      <th>Other_Sales</th>\n",
       "      <th>Global_Sales</th>\n",
       "    </tr>\n",
       "  </thead>\n",
       "  <tbody>\n",
       "    <tr>\n",
       "      <th>0</th>\n",
       "      <td>1</td>\n",
       "      <td>Wii Sports</td>\n",
       "      <td>Wii</td>\n",
       "      <td>2006.0</td>\n",
       "      <td>Sports</td>\n",
       "      <td>Nintendo</td>\n",
       "      <td>41.49</td>\n",
       "      <td>29.02</td>\n",
       "      <td>3.77</td>\n",
       "      <td>8.46</td>\n",
       "      <td>82.74</td>\n",
       "    </tr>\n",
       "    <tr>\n",
       "      <th>1</th>\n",
       "      <td>2</td>\n",
       "      <td>Super Mario Bros.</td>\n",
       "      <td>NES</td>\n",
       "      <td>1985.0</td>\n",
       "      <td>Platform</td>\n",
       "      <td>Nintendo</td>\n",
       "      <td>29.08</td>\n",
       "      <td>3.58</td>\n",
       "      <td>6.81</td>\n",
       "      <td>0.77</td>\n",
       "      <td>40.24</td>\n",
       "    </tr>\n",
       "    <tr>\n",
       "      <th>2</th>\n",
       "      <td>3</td>\n",
       "      <td>Mario Kart Wii</td>\n",
       "      <td>Wii</td>\n",
       "      <td>2008.0</td>\n",
       "      <td>Racing</td>\n",
       "      <td>Nintendo</td>\n",
       "      <td>15.85</td>\n",
       "      <td>12.88</td>\n",
       "      <td>3.79</td>\n",
       "      <td>3.31</td>\n",
       "      <td>35.82</td>\n",
       "    </tr>\n",
       "    <tr>\n",
       "      <th>3</th>\n",
       "      <td>4</td>\n",
       "      <td>Wii Sports Resort</td>\n",
       "      <td>Wii</td>\n",
       "      <td>2009.0</td>\n",
       "      <td>Sports</td>\n",
       "      <td>Nintendo</td>\n",
       "      <td>15.75</td>\n",
       "      <td>11.01</td>\n",
       "      <td>3.28</td>\n",
       "      <td>2.96</td>\n",
       "      <td>33.00</td>\n",
       "    </tr>\n",
       "    <tr>\n",
       "      <th>4</th>\n",
       "      <td>5</td>\n",
       "      <td>Pokemon Red/Pokemon Blue</td>\n",
       "      <td>GB</td>\n",
       "      <td>1996.0</td>\n",
       "      <td>Role-Playing</td>\n",
       "      <td>Nintendo</td>\n",
       "      <td>11.27</td>\n",
       "      <td>8.89</td>\n",
       "      <td>10.22</td>\n",
       "      <td>1.00</td>\n",
       "      <td>31.37</td>\n",
       "    </tr>\n",
       "    <tr>\n",
       "      <th>...</th>\n",
       "      <td>...</td>\n",
       "      <td>...</td>\n",
       "      <td>...</td>\n",
       "      <td>...</td>\n",
       "      <td>...</td>\n",
       "      <td>...</td>\n",
       "      <td>...</td>\n",
       "      <td>...</td>\n",
       "      <td>...</td>\n",
       "      <td>...</td>\n",
       "      <td>...</td>\n",
       "    </tr>\n",
       "    <tr>\n",
       "      <th>16593</th>\n",
       "      <td>16596</td>\n",
       "      <td>Woody Woodpecker in Crazy Castle 5</td>\n",
       "      <td>GBA</td>\n",
       "      <td>2002.0</td>\n",
       "      <td>Platform</td>\n",
       "      <td>Kemco</td>\n",
       "      <td>0.01</td>\n",
       "      <td>0.00</td>\n",
       "      <td>0.00</td>\n",
       "      <td>0.00</td>\n",
       "      <td>0.01</td>\n",
       "    </tr>\n",
       "    <tr>\n",
       "      <th>16594</th>\n",
       "      <td>16597</td>\n",
       "      <td>Men in Black II: Alien Escape</td>\n",
       "      <td>GC</td>\n",
       "      <td>2003.0</td>\n",
       "      <td>Shooter</td>\n",
       "      <td>Infogrames</td>\n",
       "      <td>0.01</td>\n",
       "      <td>0.00</td>\n",
       "      <td>0.00</td>\n",
       "      <td>0.00</td>\n",
       "      <td>0.01</td>\n",
       "    </tr>\n",
       "    <tr>\n",
       "      <th>16595</th>\n",
       "      <td>16598</td>\n",
       "      <td>SCORE International Baja 1000: The Official Game</td>\n",
       "      <td>PS2</td>\n",
       "      <td>2008.0</td>\n",
       "      <td>Racing</td>\n",
       "      <td>Activision</td>\n",
       "      <td>0.00</td>\n",
       "      <td>0.00</td>\n",
       "      <td>0.00</td>\n",
       "      <td>0.00</td>\n",
       "      <td>0.01</td>\n",
       "    </tr>\n",
       "    <tr>\n",
       "      <th>16596</th>\n",
       "      <td>16599</td>\n",
       "      <td>Know How 2</td>\n",
       "      <td>DS</td>\n",
       "      <td>2010.0</td>\n",
       "      <td>Puzzle</td>\n",
       "      <td>7G//AMES</td>\n",
       "      <td>0.00</td>\n",
       "      <td>0.01</td>\n",
       "      <td>0.00</td>\n",
       "      <td>0.00</td>\n",
       "      <td>0.01</td>\n",
       "    </tr>\n",
       "    <tr>\n",
       "      <th>16597</th>\n",
       "      <td>16600</td>\n",
       "      <td>Spirits &amp; Spells</td>\n",
       "      <td>GBA</td>\n",
       "      <td>2003.0</td>\n",
       "      <td>Platform</td>\n",
       "      <td>Wanadoo</td>\n",
       "      <td>0.01</td>\n",
       "      <td>0.00</td>\n",
       "      <td>0.00</td>\n",
       "      <td>0.00</td>\n",
       "      <td>0.01</td>\n",
       "    </tr>\n",
       "  </tbody>\n",
       "</table>\n",
       "<p>16598 rows × 11 columns</p>\n",
       "</div>"
      ],
      "text/plain": [
       "        Rank                                              Name Platform  \\\n",
       "0          1                                        Wii Sports      Wii   \n",
       "1          2                                 Super Mario Bros.      NES   \n",
       "2          3                                    Mario Kart Wii      Wii   \n",
       "3          4                                 Wii Sports Resort      Wii   \n",
       "4          5                          Pokemon Red/Pokemon Blue       GB   \n",
       "...      ...                                               ...      ...   \n",
       "16593  16596                Woody Woodpecker in Crazy Castle 5      GBA   \n",
       "16594  16597                     Men in Black II: Alien Escape       GC   \n",
       "16595  16598  SCORE International Baja 1000: The Official Game      PS2   \n",
       "16596  16599                                        Know How 2       DS   \n",
       "16597  16600                                  Spirits & Spells      GBA   \n",
       "\n",
       "         Year         Genre   Publisher  NA_Sales  EU_Sales  JP_Sales  \\\n",
       "0      2006.0        Sports    Nintendo     41.49     29.02      3.77   \n",
       "1      1985.0      Platform    Nintendo     29.08      3.58      6.81   \n",
       "2      2008.0        Racing    Nintendo     15.85     12.88      3.79   \n",
       "3      2009.0        Sports    Nintendo     15.75     11.01      3.28   \n",
       "4      1996.0  Role-Playing    Nintendo     11.27      8.89     10.22   \n",
       "...       ...           ...         ...       ...       ...       ...   \n",
       "16593  2002.0      Platform       Kemco      0.01      0.00      0.00   \n",
       "16594  2003.0       Shooter  Infogrames      0.01      0.00      0.00   \n",
       "16595  2008.0        Racing  Activision      0.00      0.00      0.00   \n",
       "16596  2010.0        Puzzle    7G//AMES      0.00      0.01      0.00   \n",
       "16597  2003.0      Platform     Wanadoo      0.01      0.00      0.00   \n",
       "\n",
       "       Other_Sales  Global_Sales  \n",
       "0             8.46         82.74  \n",
       "1             0.77         40.24  \n",
       "2             3.31         35.82  \n",
       "3             2.96         33.00  \n",
       "4             1.00         31.37  \n",
       "...            ...           ...  \n",
       "16593         0.00          0.01  \n",
       "16594         0.00          0.01  \n",
       "16595         0.00          0.01  \n",
       "16596         0.00          0.01  \n",
       "16597         0.00          0.01  \n",
       "\n",
       "[16598 rows x 11 columns]"
      ]
     },
     "execution_count": 2,
     "metadata": {},
     "output_type": "execute_result"
    }
   ],
   "source": [
    "import pandas as pd\n",
    "df = pd.read_csv('vgsales.csv')\n",
    "df"
   ]
  },
  {
   "cell_type": "code",
   "execution_count": 3,
   "id": "bc21e5d5",
   "metadata": {},
   "outputs": [
    {
     "data": {
      "text/plain": [
       "(16598, 11)"
      ]
     },
     "execution_count": 3,
     "metadata": {},
     "output_type": "execute_result"
    }
   ],
   "source": [
    "df.shape"
   ]
  },
  {
   "cell_type": "code",
   "execution_count": 4,
   "id": "9ad5fa81",
   "metadata": {},
   "outputs": [
    {
     "data": {
      "text/html": [
       "<div>\n",
       "<style scoped>\n",
       "    .dataframe tbody tr th:only-of-type {\n",
       "        vertical-align: middle;\n",
       "    }\n",
       "\n",
       "    .dataframe tbody tr th {\n",
       "        vertical-align: top;\n",
       "    }\n",
       "\n",
       "    .dataframe thead th {\n",
       "        text-align: right;\n",
       "    }\n",
       "</style>\n",
       "<table border=\"1\" class=\"dataframe\">\n",
       "  <thead>\n",
       "    <tr style=\"text-align: right;\">\n",
       "      <th></th>\n",
       "      <th>Rank</th>\n",
       "      <th>Year</th>\n",
       "      <th>NA_Sales</th>\n",
       "      <th>EU_Sales</th>\n",
       "      <th>JP_Sales</th>\n",
       "      <th>Other_Sales</th>\n",
       "      <th>Global_Sales</th>\n",
       "    </tr>\n",
       "  </thead>\n",
       "  <tbody>\n",
       "    <tr>\n",
       "      <th>count</th>\n",
       "      <td>16598.000000</td>\n",
       "      <td>16327.000000</td>\n",
       "      <td>16598.000000</td>\n",
       "      <td>16598.000000</td>\n",
       "      <td>16598.000000</td>\n",
       "      <td>16598.000000</td>\n",
       "      <td>16598.000000</td>\n",
       "    </tr>\n",
       "    <tr>\n",
       "      <th>mean</th>\n",
       "      <td>8300.605254</td>\n",
       "      <td>2006.406443</td>\n",
       "      <td>0.264667</td>\n",
       "      <td>0.146652</td>\n",
       "      <td>0.077782</td>\n",
       "      <td>0.048063</td>\n",
       "      <td>0.537441</td>\n",
       "    </tr>\n",
       "    <tr>\n",
       "      <th>std</th>\n",
       "      <td>4791.853933</td>\n",
       "      <td>5.828981</td>\n",
       "      <td>0.816683</td>\n",
       "      <td>0.505351</td>\n",
       "      <td>0.309291</td>\n",
       "      <td>0.188588</td>\n",
       "      <td>1.555028</td>\n",
       "    </tr>\n",
       "    <tr>\n",
       "      <th>min</th>\n",
       "      <td>1.000000</td>\n",
       "      <td>1980.000000</td>\n",
       "      <td>0.000000</td>\n",
       "      <td>0.000000</td>\n",
       "      <td>0.000000</td>\n",
       "      <td>0.000000</td>\n",
       "      <td>0.010000</td>\n",
       "    </tr>\n",
       "    <tr>\n",
       "      <th>25%</th>\n",
       "      <td>4151.250000</td>\n",
       "      <td>2003.000000</td>\n",
       "      <td>0.000000</td>\n",
       "      <td>0.000000</td>\n",
       "      <td>0.000000</td>\n",
       "      <td>0.000000</td>\n",
       "      <td>0.060000</td>\n",
       "    </tr>\n",
       "    <tr>\n",
       "      <th>50%</th>\n",
       "      <td>8300.500000</td>\n",
       "      <td>2007.000000</td>\n",
       "      <td>0.080000</td>\n",
       "      <td>0.020000</td>\n",
       "      <td>0.000000</td>\n",
       "      <td>0.010000</td>\n",
       "      <td>0.170000</td>\n",
       "    </tr>\n",
       "    <tr>\n",
       "      <th>75%</th>\n",
       "      <td>12449.750000</td>\n",
       "      <td>2010.000000</td>\n",
       "      <td>0.240000</td>\n",
       "      <td>0.110000</td>\n",
       "      <td>0.040000</td>\n",
       "      <td>0.040000</td>\n",
       "      <td>0.470000</td>\n",
       "    </tr>\n",
       "    <tr>\n",
       "      <th>max</th>\n",
       "      <td>16600.000000</td>\n",
       "      <td>2020.000000</td>\n",
       "      <td>41.490000</td>\n",
       "      <td>29.020000</td>\n",
       "      <td>10.220000</td>\n",
       "      <td>10.570000</td>\n",
       "      <td>82.740000</td>\n",
       "    </tr>\n",
       "  </tbody>\n",
       "</table>\n",
       "</div>"
      ],
      "text/plain": [
       "               Rank          Year      NA_Sales      EU_Sales      JP_Sales  \\\n",
       "count  16598.000000  16327.000000  16598.000000  16598.000000  16598.000000   \n",
       "mean    8300.605254   2006.406443      0.264667      0.146652      0.077782   \n",
       "std     4791.853933      5.828981      0.816683      0.505351      0.309291   \n",
       "min        1.000000   1980.000000      0.000000      0.000000      0.000000   \n",
       "25%     4151.250000   2003.000000      0.000000      0.000000      0.000000   \n",
       "50%     8300.500000   2007.000000      0.080000      0.020000      0.000000   \n",
       "75%    12449.750000   2010.000000      0.240000      0.110000      0.040000   \n",
       "max    16600.000000   2020.000000     41.490000     29.020000     10.220000   \n",
       "\n",
       "        Other_Sales  Global_Sales  \n",
       "count  16598.000000  16598.000000  \n",
       "mean       0.048063      0.537441  \n",
       "std        0.188588      1.555028  \n",
       "min        0.000000      0.010000  \n",
       "25%        0.000000      0.060000  \n",
       "50%        0.010000      0.170000  \n",
       "75%        0.040000      0.470000  \n",
       "max       10.570000     82.740000  "
      ]
     },
     "execution_count": 4,
     "metadata": {},
     "output_type": "execute_result"
    }
   ],
   "source": [
    "df.describe()"
   ]
  },
  {
   "cell_type": "code",
   "execution_count": 5,
   "id": "a4e502f5",
   "metadata": {},
   "outputs": [
    {
     "data": {
      "text/plain": [
       "array([[1, 'Wii Sports', 'Wii', ..., 3.77, 8.46, 82.74],\n",
       "       [2, 'Super Mario Bros.', 'NES', ..., 6.81, 0.77, 40.24],\n",
       "       [3, 'Mario Kart Wii', 'Wii', ..., 3.79, 3.31, 35.82],\n",
       "       ...,\n",
       "       [16598, 'SCORE International Baja 1000: The Official Game', 'PS2',\n",
       "        ..., 0.0, 0.0, 0.01],\n",
       "       [16599, 'Know How 2', 'DS', ..., 0.0, 0.0, 0.01],\n",
       "       [16600, 'Spirits & Spells', 'GBA', ..., 0.0, 0.0, 0.01]],\n",
       "      dtype=object)"
      ]
     },
     "execution_count": 5,
     "metadata": {},
     "output_type": "execute_result"
    }
   ],
   "source": [
    "df.values"
   ]
  },
  {
   "cell_type": "code",
   "execution_count": null,
   "id": "07237287",
   "metadata": {},
   "outputs": [],
   "source": [
    "df.describe()"
   ]
  }
 ],
 "metadata": {
  "kernelspec": {
   "display_name": "Python 3 (ipykernel)",
   "language": "python",
   "name": "python3"
  },
  "language_info": {
   "codemirror_mode": {
    "name": "ipython",
    "version": 3
   },
   "file_extension": ".py",
   "mimetype": "text/x-python",
   "name": "python",
   "nbconvert_exporter": "python",
   "pygments_lexer": "ipython3",
   "version": "3.8.13"
  },
  "vscode": {
   "interpreter": {
    "hash": "9337a79df3e5d869f0c5777e0d2b1209a728c6a52c1d44e22a85de3e5a3843fd"
   }
  }
 },
 "nbformat": 4,
 "nbformat_minor": 5
}
